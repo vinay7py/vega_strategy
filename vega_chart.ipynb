{
 "cells": [
  {
   "cell_type": "code",
   "execution_count": 7,
   "id": "9e8eda4f",
   "metadata": {},
   "outputs": [],
   "source": [
    "import pandas as pd\n",
    "import matplotlib\n",
    "matplotlib.use('TkAgg')\n",
    "import matplotlib.pyplot as plt\n",
    "from matplotlib.animation import FuncAnimation\n",
    "import scipy.stats as stats\n",
    "import numpy as np"
   ]
  },
  {
   "cell_type": "code",
   "execution_count": null,
   "id": "7b2b7c73-e64a-4953-bb49-8c73d6daff7a",
   "metadata": {
    "scrolled": true
   },
   "outputs": [],
   "source": [
    "def update_charts(i):\n",
    "    df = pd.read_csv('vega_vomma_data.csv')\n",
    "    \n",
    "    call_vega = df.iloc[-1]['CE_Vega']\n",
    "    call_vega = round(call_vega, 2)\n",
    "    put_vega = df.iloc[-1]['PE_Vega']\n",
    "    put_vega = round(put_vega, 2)\n",
    "    \n",
    "    x1 = df['Timestamp']\n",
    "    y1_1 = df['CE_Vega']\n",
    "    y1_2 = df['PE_Vega']\n",
    "    \n",
    "    plt.subplot(1, 2, 1)\n",
    "    plt.plot(x1, y1_1)\n",
    "    plt.plot(x1, y1_2)\n",
    "    plt.xlabel('Time')\n",
    "    plt.ylabel('Vega')\n",
    "    plt.title(f'CE and PE VEGA TREND (CE Vega: {call_vega}, PE Vega: {put_vega})')\n",
    "    plt.legend()\n",
    "\n",
    "    call_v = df.iloc[-1]['CE_Vomma']\n",
    "    call_v = round(call_v, 2)\n",
    "    put_v = df.iloc[-1]['PE_Vomma']\n",
    "    put_v = round(put_v, 2)\n",
    "    \n",
    "    x2 = df['Timestamp']\n",
    "    y2_1 = df['CE_Vomma']\n",
    "    y2_2 = df['PE_Vomma']\n",
    "    \n",
    "    plt.subplot(1, 2, 2)\n",
    "    plt.plot(x2, y2_1)\n",
    "    plt.plot(x2, y2_2)\n",
    "    plt.xlabel('Time')\n",
    "    plt.ylabel('Vomma')\n",
    "    plt.title(f'CE and PE VOMMA (CE Vomma: {call_v}, PE Vomma: {put_v})')\n",
    "    plt.legend()\n",
    "    \n",
    "    plt.tight_layout()\n",
    "\n",
    "ani = FuncAnimation(plt.gcf(), update_charts, interval=10000)\n",
    "\n",
    "plt.show()\n"
   ]
  },
  {
   "cell_type": "code",
   "execution_count": null,
   "id": "699383c4",
   "metadata": {},
   "outputs": [],
   "source": []
  },
  {
   "cell_type": "code",
   "execution_count": null,
   "id": "d1c5c8e5",
   "metadata": {},
   "outputs": [
    {
     "name": "stderr",
     "output_type": "stream",
     "text": [
      "C:\\Users\\sanja\\AppData\\Local\\Temp\\ipykernel_21052\\3321381085.py:70: UserWarning: frames=None which we can infer the length of, did not pass an explicit *save_count* and passed cache_frame_data=True.  To avoid a possibly unbounded cache, frame data caching has been disabled. To suppress this warning either pass `cache_frame_data=False` or `save_count=MAX_FRAMES`.\n",
      "  ani = FuncAnimation(fig, update_charts, interval=10000)\n"
     ]
    }
   ],
   "source": []
  },
  {
   "cell_type": "code",
   "execution_count": null,
   "id": "7e0fb7da",
   "metadata": {},
   "outputs": [],
   "source": []
  },
  {
   "cell_type": "code",
   "execution_count": null,
   "id": "35d6cac8",
   "metadata": {},
   "outputs": [],
   "source": []
  }
 ],
 "metadata": {
  "kernelspec": {
   "display_name": "Python 3 (ipykernel)",
   "language": "python",
   "name": "python3"
  },
  "language_info": {
   "codemirror_mode": {
    "name": "ipython",
    "version": 3
   },
   "file_extension": ".py",
   "mimetype": "text/x-python",
   "name": "python",
   "nbconvert_exporter": "python",
   "pygments_lexer": "ipython3",
   "version": "3.11.7"
  }
 },
 "nbformat": 4,
 "nbformat_minor": 5
}
